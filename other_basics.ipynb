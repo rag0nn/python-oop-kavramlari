{
 "cells": [
  {
   "cell_type": "markdown",
   "id": "91a90d69",
   "metadata": {},
   "source": [
    "### Notlar"
   ]
  },
  {
   "cell_type": "markdown",
   "id": "d91301b1",
   "metadata": {},
   "source": [
    "<dl>\n",
    "\n",
    "  <dt></dt>\n",
    "  <dd></dd>\n",
    "\n",
    "  <dt>Okuma Sırası</dt>\n",
    "  <dd>Python mantıksal işlemleri soldan sağa yapar</dd>\n",
    "\n",
    "</dl>"
   ]
  },
  {
   "cell_type": "code",
   "execution_count": 1,
   "id": "4c12b29c",
   "metadata": {},
   "outputs": [
    {
     "name": "stdout",
     "output_type": "stream",
     "text": [
      "a='123'\n"
     ]
    }
   ],
   "source": [
    "a = \"123\"\n",
    "print(f\"{a=}\")"
   ]
  },
  {
   "cell_type": "markdown",
   "id": "fcc1ef5d",
   "metadata": {},
   "source": [
    "### Listeler(array)"
   ]
  },
  {
   "cell_type": "markdown",
   "id": "c817ed2c",
   "metadata": {},
   "source": [
    "#### İki liste birbirine eşitlendiğinde aynı adrese bakarlar dolayısıyla yapılan her işlem ikisi içinde geçerli olur."
   ]
  },
  {
   "cell_type": "code",
   "execution_count": 2,
   "id": "b42ef444",
   "metadata": {},
   "outputs": [
    {
     "name": "stdout",
     "output_type": "stream",
     "text": [
      "[1, 2, 3, 4]\n",
      "[1, 2, 3, 4]\n"
     ]
    }
   ],
   "source": [
    "k = [1,2,3]\n",
    "l = k\n",
    "l.append(4)\n",
    "\n",
    "print(k)\n",
    "print(l)"
   ]
  },
  {
   "cell_type": "markdown",
   "id": "01d90706",
   "metadata": {},
   "source": [
    "#### aynı işlem class'lar içinde uygulanabilir"
   ]
  },
  {
   "cell_type": "code",
   "execution_count": 4,
   "id": "dbba1ade",
   "metadata": {},
   "outputs": [
    {
     "name": "stdout",
     "output_type": "stream",
     "text": [
      "Bu iki sınıf eşit mi ?  False\n",
      "Bu iki sınıf eşit mi ?  True\n",
      "e1 isim : e3\n",
      "e2 isim :  e3\n"
     ]
    }
   ],
   "source": [
    "class Q:\n",
    "    def __init__(self,name):\n",
    "        self.name = name\n",
    "\n",
    "e1 = Q(\"e1\")\n",
    "e2 = Q(\"e2\")\n",
    "\n",
    "print(\"Bu iki sınıf eşit mi ? \",e1==e2)\n",
    "\n",
    "e1 = e2\n",
    "\n",
    "print(\"Bu iki sınıf eşit mi ? \",e1==e2)\n",
    "\n",
    "e1.name = \"e3\"\n",
    "\n",
    "print(\"e1 isim :\",e1.name)\n",
    "print(\"e2 isim :\",e2.name)"
   ]
  },
  {
   "cell_type": "markdown",
   "id": "382fc85d",
   "metadata": {},
   "source": [
    "### Hash"
   ]
  },
  {
   "cell_type": "code",
   "execution_count": 7,
   "id": "e9dddcea",
   "metadata": {
    "collapsed": true
   },
   "outputs": [
    {
     "name": "stdout",
     "output_type": "stream",
     "text": [
      "-3020869200685311125\n",
      "-3020869200685311125\n"
     ]
    }
   ],
   "source": [
    "a= (\"1\",\"2\",\"3\",\"4\")\n",
    "print(hash(a))\n",
    "b = (\"1\",\"2\",\"3\",\"4\")\n",
    "print(hash(b))"
   ]
  },
  {
   "cell_type": "markdown",
   "id": "09774274",
   "metadata": {},
   "source": [
    "__ missing __  örneği"
   ]
  },
  {
   "cell_type": "code",
   "execution_count": 11,
   "id": "d45c0c4e",
   "metadata": {},
   "outputs": [
    {
     "name": "stdout",
     "output_type": "stream",
     "text": [
      "10\n",
      " yok ki : KAVUN\n",
      "None\n"
     ]
    }
   ],
   "source": [
    "class D(dict):\n",
    "    def __missing__(self,key):\n",
    "        print(f\" yok ki : {key}\")\n",
    "\n",
    "e1 = D()\n",
    "\n",
    "e1[\"ELMA\"] = 10\n",
    "e1[\"ARMUT\"] = 4\n",
    "\n",
    "print(e1[\"ELMA\"])\n",
    "print(e1[\"KAVUN\"])"
   ]
  },
  {
   "cell_type": "markdown",
   "id": "6cfc2136",
   "metadata": {},
   "source": [
    "### Modül Çağırma ve İşlemler"
   ]
  },
  {
   "cell_type": "code",
   "execution_count": 19,
   "id": "2a0a621d",
   "metadata": {},
   "outputs": [],
   "source": [
    "import benim_ornek_modul as examplemodule"
   ]
  },
  {
   "cell_type": "code",
   "execution_count": 31,
   "id": "6ad4bc1a",
   "metadata": {},
   "outputs": [],
   "source": [
    "# fonksiyonun açıklamasını gösterir\n",
    "examplemodule.topla?"
   ]
  },
  {
   "cell_type": "code",
   "execution_count": 32,
   "id": "8bc8b8d3",
   "metadata": {},
   "outputs": [],
   "source": [
    "# tüm fonksiyoonu gösterir\n",
    "examplemodule.topla??"
   ]
  },
  {
   "cell_type": "code",
   "execution_count": 33,
   "id": "d7c06688",
   "metadata": {},
   "outputs": [
    {
     "name": "stdout",
     "output_type": "stream",
     "text": [
      "Help on module benim_ornek_modul:\n",
      "\n",
      "NAME\n",
      "    benim_ornek_modul - Bu bir örnek modül adamım!\n",
      "\n",
      "FUNCTIONS\n",
      "    topla(a, b)\n",
      "        Bu fonskyion toplar\n",
      "\n",
      "DATA\n",
      "    some_module_constant = 20\n",
      "\n",
      "FILE\n",
      "    c:\\users\\asus\\desktop\\python_projects\\python-oop-kavramlari\\benim_ornek_modul.py\n",
      "\n",
      "\n"
     ]
    }
   ],
   "source": [
    "help(examplemodule)"
   ]
  },
  {
   "cell_type": "code",
   "execution_count": null,
   "id": "032e51e8",
   "metadata": {},
   "outputs": [],
   "source": []
  }
 ],
 "metadata": {
  "kernelspec": {
   "display_name": "Python 3 (ipykernel)",
   "language": "python",
   "name": "python3"
  },
  "language_info": {
   "codemirror_mode": {
    "name": "ipython",
    "version": 3
   },
   "file_extension": ".py",
   "mimetype": "text/x-python",
   "name": "python",
   "nbconvert_exporter": "python",
   "pygments_lexer": "ipython3",
   "version": "3.9.16"
  }
 },
 "nbformat": 4,
 "nbformat_minor": 5
}

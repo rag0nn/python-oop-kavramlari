{
 "cells": [
  {
   "cell_type": "code",
   "execution_count": 91,
   "id": "7acd499b",
   "metadata": {},
   "outputs": [],
   "source": [
    "from abc import ABC, abstractmethod\n",
    "import math"
   ]
  },
  {
   "cell_type": "code",
   "execution_count": 236,
   "id": "3b74b3ef",
   "metadata": {},
   "outputs": [],
   "source": [
    "class GeometrikSekil:\n",
    "    def __init__(self,x:int,y:int):\n",
    "        if type(x) == int and type(y) == int:\n",
    "            self._x = x\n",
    "            self._y = y\n",
    "        else:\n",
    "            raise Exception(\"Girilen lokasyonlar değerleri int olmalı\")\n",
    "            \n",
    "    def __str__(self):\n",
    "        \"\"\"\n",
    "        Sınıf yazdırıldığında göstericelek olan yerdir.\n",
    "        örn: print(GeoShape) --> aşağıda return edilen şeyi verir\n",
    "        string kullanımlar için daha uygundur.\n",
    "        str(sınıf) ile de çağırılabilir\n",
    "        \"\"\"\n",
    "        return f\"Geometrik Sekil | {self._x},{self._y}\"\n",
    "    \n",
    "    def __repr__(self):\n",
    "        \"\"\"\n",
    "        __str__ ile aynıdır. \n",
    "        __str__ daha baskındır\n",
    "        repr(sınıf) ile de çağıralibilir\n",
    "        __str__ ile aslında bi farkı yok gibidir. Ama mantıken daha detaylı işlemler için kullanılabilir.\n",
    "        \"\"\"\n",
    "        return f\"({self._x},{self._y})\"\n",
    "    \n",
    "    def __len__(self):\n",
    "        return int(math.sqrt(self._x**2 + self._y**2))\n",
    "    \n",
    "    def get_location(self):\n",
    "        return (self._x,self._y)\n",
    "    \n",
    "    def set_location(self,x,y):\n",
    "        self._x = x\n",
    "        self._y = y\n",
    "        \n",
    "    @abstractmethod\n",
    "    def area(self):\n",
    "        \"\"\"\n",
    "        geometrik şeklin alanını döndür\n",
    "        \"\"\"\n",
    "        pass\n",
    "    \n",
    "    @abstractmethod\n",
    "    def info(self):\n",
    "        \"\"\"\n",
    "        geometrik şeklin bilgilerini döndür\n",
    "        \"\"\"\n",
    "        pass\n",
    "    \n",
    "    @staticmethod\n",
    "    def pi():\n",
    "        \"\"\"\n",
    "        pi sabiti döndür\n",
    "        \"\"\"\n",
    "        return math.pi\n",
    "    \n",
    "    @staticmethod\n",
    "    def format(*args):\n",
    "        r = \"\"\n",
    "        for element in args:\n",
    "            r+=str(element)\n",
    "            r+= \" | \"\n",
    "        return r\n",
    "    \n",
    "    @classmethod\n",
    "    def fromTuple(cls,location:tuple):\n",
    "        if type(location) == tuple:\n",
    "            if len(location) == 2:\n",
    "                return cls(location[0],location[1])\n",
    "            else:\n",
    "                raise Exception(\"Tuple 2 öznitelik içermeli\")\n",
    "        else:\n",
    "            raise Exception(\"Girilen değer tuple olmalı\")"
   ]
  },
  {
   "cell_type": "code",
   "execution_count": 228,
   "id": "30cdc972",
   "metadata": {},
   "outputs": [],
   "source": [
    "g1 = GeometrikSekil.fromTuple((2,213))"
   ]
  },
  {
   "cell_type": "code",
   "execution_count": 159,
   "id": "aae484bf",
   "metadata": {},
   "outputs": [],
   "source": [
    "g1.set_location(1,2)\n",
    "g1.get_location()\n",
    "g1.area()"
   ]
  },
  {
   "cell_type": "code",
   "execution_count": 160,
   "id": "317f2fcd",
   "metadata": {},
   "outputs": [
    {
     "name": "stdout",
     "output_type": "stream",
     "text": [
      "Geometrik Sekil | 1,2\n",
      "Geometrik Sekil | 1,2\n",
      "(1,2)\n"
     ]
    }
   ],
   "source": [
    "print(g1)\n",
    "print(str(g1))\n",
    "print(repr(g1))"
   ]
  },
  {
   "cell_type": "code",
   "execution_count": null,
   "id": "87168036",
   "metadata": {},
   "outputs": [],
   "source": []
  },
  {
   "cell_type": "code",
   "execution_count": 232,
   "id": "5e102971",
   "metadata": {},
   "outputs": [],
   "source": [
    "class Daire(GeometrikSekil):\n",
    "    def __init__(self,x,y,radius):\n",
    "        super().__init__(x,y)\n",
    "        if type(radius) != int:\n",
    "            raise \"hata!\"\n",
    "        else:\n",
    "            self.radius = radius\n",
    "\n",
    "    def area(self):\n",
    "        return Daire.pi() * self.radius**2\n",
    "    \n",
    "    def info(self):\n",
    "        return GeometrikSekil.format(\"Daire\",(self._x,self._y),self.radius)"
   ]
  },
  {
   "cell_type": "code",
   "execution_count": 233,
   "id": "fee3ae48",
   "metadata": {},
   "outputs": [],
   "source": [
    "d1 = Daire(1,2,3)"
   ]
  },
  {
   "cell_type": "code",
   "execution_count": 234,
   "id": "fd2848b9",
   "metadata": {},
   "outputs": [
    {
     "data": {
      "text/plain": [
       "28.274333882308138"
      ]
     },
     "execution_count": 234,
     "metadata": {},
     "output_type": "execute_result"
    }
   ],
   "source": [
    "d1.area()"
   ]
  },
  {
   "cell_type": "code",
   "execution_count": 241,
   "id": "28f12baa",
   "metadata": {},
   "outputs": [
    {
     "data": {
      "text/plain": [
       "'Daire | (1, 2) | 3 | '"
      ]
     },
     "execution_count": 241,
     "metadata": {},
     "output_type": "execute_result"
    }
   ],
   "source": [
    "d1.info()"
   ]
  },
  {
   "cell_type": "code",
   "execution_count": null,
   "id": "c5643687",
   "metadata": {},
   "outputs": [],
   "source": []
  },
  {
   "cell_type": "code",
   "execution_count": 244,
   "id": "12e5aa38",
   "metadata": {},
   "outputs": [],
   "source": [
    "class Kare(GeometrikSekil):\n",
    "    def __init__(self,x,y,edge):\n",
    "        GeometrikSekil.__init__(self,x,y)\n",
    "        self.edge = edge\n",
    "    \n",
    "    def area(self):\n",
    "        return self.edge**2\n",
    "    \n",
    "    def perimeter(self):\n",
    "        return self.edge*4\n",
    "    \n",
    "    def info(self):\n",
    "        return self.format(\"Kare\",(self._x,self._y),self.edge)\n",
    "    \n",
    "    "
   ]
  },
  {
   "cell_type": "code",
   "execution_count": 245,
   "id": "f0ebbd6b",
   "metadata": {},
   "outputs": [
    {
     "data": {
      "text/plain": [
       "'Kare | (2, 2) | 4 | '"
      ]
     },
     "execution_count": 245,
     "metadata": {},
     "output_type": "execute_result"
    }
   ],
   "source": [
    "k = Kare(2,2,4)\n",
    "k.get_location()\n",
    "k.info()"
   ]
  },
  {
   "cell_type": "code",
   "execution_count": 251,
   "id": "7c4851a8",
   "metadata": {},
   "outputs": [],
   "source": [
    "class Dikdortgen(Kare):\n",
    "    def __init__(self,x,y,edge,edge2):\n",
    "        super().__init__(x,y,edge)\n",
    "        self.edge2 = edge2\n",
    "    \n",
    "    def area(self):\n",
    "        return self.edge *self.edge2\n",
    "    \n",
    "    def perimeter(self):\n",
    "        return self.edge*2 + self.edge2*2\n",
    "    \n",
    "    def info(self):\n",
    "        return self.format(\"Dikdörtgen\",(self._x,self._y),self.edge,self.edge2)\n",
    "    \n",
    "    @classmethod\n",
    "    def fromTuple(cls,t:tuple):\n",
    "        return cls(t[0],t[1],t[2],t[3])"
   ]
  },
  {
   "cell_type": "code",
   "execution_count": 255,
   "id": "b62099af",
   "metadata": {},
   "outputs": [],
   "source": [
    "dd1 = Dikdortgen.fromTuple((1,2,10,45))"
   ]
  },
  {
   "cell_type": "code",
   "execution_count": 256,
   "id": "09d43896",
   "metadata": {},
   "outputs": [
    {
     "data": {
      "text/plain": [
       "(1, 2)"
      ]
     },
     "execution_count": 256,
     "metadata": {},
     "output_type": "execute_result"
    }
   ],
   "source": [
    "dd1.get_location()"
   ]
  },
  {
   "cell_type": "code",
   "execution_count": 257,
   "id": "97acb0f1",
   "metadata": {},
   "outputs": [
    {
     "data": {
      "text/plain": [
       "450"
      ]
     },
     "execution_count": 257,
     "metadata": {},
     "output_type": "execute_result"
    }
   ],
   "source": [
    "dd1.area()"
   ]
  },
  {
   "cell_type": "code",
   "execution_count": null,
   "id": "be631942",
   "metadata": {},
   "outputs": [],
   "source": []
  },
  {
   "cell_type": "markdown",
   "id": "dcd87246",
   "metadata": {},
   "source": [
    "\n",
    "#### Type: doğrudan tipi döndürür\n",
    "#### isintance: alakadar tipler ile işlem yapabilir"
   ]
  },
  {
   "cell_type": "code",
   "execution_count": 260,
   "id": "0316b39c",
   "metadata": {},
   "outputs": [
    {
     "name": "stdout",
     "output_type": "stream",
     "text": [
      "False\n",
      "True\n"
     ]
    }
   ],
   "source": [
    "print(type(dd1) is GeometrikSekil)\n",
    "print(isinstance(dd1,GeometrikSekil))"
   ]
  },
  {
   "cell_type": "code",
   "execution_count": null,
   "id": "8495ee0e",
   "metadata": {},
   "outputs": [],
   "source": []
  },
  {
   "cell_type": "markdown",
   "id": "1c2ca31d",
   "metadata": {},
   "source": [
    "#### hızlı formatlama"
   ]
  },
  {
   "cell_type": "code",
   "execution_count": 11,
   "id": "26dbde60",
   "metadata": {},
   "outputs": [
    {
     "name": "stdout",
     "output_type": "stream",
     "text": [
      "a='123'\n"
     ]
    }
   ],
   "source": [
    "a = \"123\"\n",
    "print(f\"{a=}\")"
   ]
  },
  {
   "cell_type": "code",
   "execution_count": null,
   "id": "f0848d0a",
   "metadata": {},
   "outputs": [],
   "source": []
  }
 ],
 "metadata": {
  "kernelspec": {
   "display_name": "Python 3 (ipykernel)",
   "language": "python",
   "name": "python3"
  },
  "language_info": {
   "codemirror_mode": {
    "name": "ipython",
    "version": 3
   },
   "file_extension": ".py",
   "mimetype": "text/x-python",
   "name": "python",
   "nbconvert_exporter": "python",
   "pygments_lexer": "ipython3",
   "version": "3.9.16"
  }
 },
 "nbformat": 4,
 "nbformat_minor": 5
}
